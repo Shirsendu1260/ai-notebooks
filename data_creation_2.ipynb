{
  "nbformat": 4,
  "nbformat_minor": 0,
  "metadata": {
    "colab": {
      "provenance": [],
      "authorship_tag": "ABX9TyONIJtpVTW73gDxrcoO/bfO",
      "include_colab_link": true
    },
    "kernelspec": {
      "name": "python3",
      "display_name": "Python 3"
    },
    "language_info": {
      "name": "python"
    }
  },
  "cells": [
    {
      "cell_type": "markdown",
      "metadata": {
        "id": "view-in-github",
        "colab_type": "text"
      },
      "source": [
        "<a href=\"https://colab.research.google.com/github/Shirsendu1260/ai-notebooks/blob/main/data_creation_2.ipynb\" target=\"_parent\"><img src=\"https://colab.research.google.com/assets/colab-badge.svg\" alt=\"Open In Colab\"/></a>"
      ]
    },
    {
      "cell_type": "code",
      "execution_count": null,
      "metadata": {
        "colab": {
          "base_uri": "https://localhost:8080/"
        },
        "id": "QVWTUiixi230",
        "outputId": "27a97270-fe33-4b7a-8d1b-d4fd4822447d"
      },
      "outputs": [
        {
          "output_type": "stream",
          "name": "stdout",
          "text": [
            "CSV dataset file generated successfully!\n"
          ]
        }
      ],
      "source": [
        "import csv\n",
        "import random\n",
        "import string\n",
        "\n",
        "def generate_random_name():\n",
        "    first_names = ['John', 'Emma', 'Michael', 'Sophia', 'William', 'Olivia', 'James', 'Ava', 'Alexander', 'Isabella']\n",
        "    last_names = ['Smith', 'Johnson', 'Williams', 'Jones', 'Brown', 'Davis', 'Miller', 'Wilson', 'Moore', 'Taylor']\n",
        "    return random.choice(first_names) + ' ' + random.choice(last_names)\n",
        "\n",
        "def generate_random_roll():\n",
        "    return ''.join(random.choices(string.digits, k=6))\n",
        "\n",
        "def generate_random_contact():\n",
        "    return ''.join(random.choices(string.digits, k=10))\n",
        "\n",
        "def generate_random_email(name):\n",
        "    domain = ['gmail.com', 'yahoo.com', 'hotmail.com', 'outlook.com', 'example.com']\n",
        "    return name.lower().replace(' ', '.') + '@' + random.choice(domain)\n",
        "\n",
        "def generate_random_address():\n",
        "    streets = ['Main St.', 'Elm St.', 'Maple Ave.', 'Oak St.', 'Cedar St.', 'Pine St.', 'Washington St.', 'Lake St.']\n",
        "    cities = ['New York', 'Los Angeles', 'Chicago', 'Houston', 'Phoenix', 'Philadelphia', 'San Antonio', 'San Diego']\n",
        "    states = ['NY', 'CA', 'IL', 'TX', 'AZ', 'PA', 'TX', 'CA']\n",
        "    return random.choice(streets) + ', ' + random.choice(cities) + ', ' + random.choice(states)\n",
        "\n",
        "def generate_random_marks():\n",
        "    total_marks = random.randint(300, 500)\n",
        "    marks_obtained = random.randint(150, total_marks)\n",
        "    percentage = (marks_obtained / total_marks) * 100\n",
        "    return total_marks, marks_obtained, percentage\n",
        "\n",
        "# Generating 100 rows of data\n",
        "data = []\n",
        "for _ in range(100):\n",
        "    name = generate_random_name()\n",
        "    roll = generate_random_roll()\n",
        "    contact = generate_random_contact()\n",
        "    email = generate_random_email(name)\n",
        "    address = generate_random_address()\n",
        "    total_marks, marks_obtained, percentage = generate_random_marks()\n",
        "    data.append([name, roll, contact, email, address, total_marks, marks_obtained, percentage])\n",
        "\n",
        "# Writing data to CSV file\n",
        "with open('student_dataset.csv', 'w', newline='') as file:\n",
        "    writer = csv.writer(file)\n",
        "    writer.writerow(['student_name', 'roll', 'contact', 'email', 'address', 'total_marks', 'marks_obtained', 'percentage'])\n",
        "    writer.writerows(data)\n",
        "\n",
        "print(\"CSV dataset file generated successfully!\")"
      ]
    }
  ]
}