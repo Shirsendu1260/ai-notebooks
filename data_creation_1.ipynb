{
  "nbformat": 4,
  "nbformat_minor": 0,
  "metadata": {
    "colab": {
      "provenance": [],
      "authorship_tag": "ABX9TyPBzTjpFpp+8P7ai5Jq2sy4",
      "include_colab_link": true
    },
    "kernelspec": {
      "name": "python3",
      "display_name": "Python 3"
    },
    "language_info": {
      "name": "python"
    }
  },
  "cells": [
    {
      "cell_type": "markdown",
      "metadata": {
        "id": "view-in-github",
        "colab_type": "text"
      },
      "source": [
        "<a href=\"https://colab.research.google.com/github/Shirsendu1260/ai-notebooks/blob/main/data_creation_1.ipynb\" target=\"_parent\"><img src=\"https://colab.research.google.com/assets/colab-badge.svg\" alt=\"Open In Colab\"/></a>"
      ]
    },
    {
      "cell_type": "code",
      "execution_count": null,
      "metadata": {
        "colab": {
          "base_uri": "https://localhost:8080/"
        },
        "id": "7S4FrKiKunxP",
        "outputId": "e652e834-7e46-40f2-a03c-0e7cd7936666"
      },
      "outputs": [
        {
          "output_type": "stream",
          "name": "stdout",
          "text": [
            "                Name              Contact No                    Email-id  \\\n",
            "0    Bradley Terrell            666.341.3613         mmurray@example.net   \n",
            "1        Peter Adams      (469)920-0557x1349          beth73@example.org   \n",
            "2        Tyler Davis      (944)666-0427x1546        joseph02@example.net   \n",
            "3     Robert Johnson   001-699-682-7921x8167    smithdesiree@example.com   \n",
            "4         Lisa White      375-244-2071x30514      tanyascott@example.net   \n",
            "..               ...                     ...                         ...   \n",
            "95    Melissa Fowler              6027353328       aanderson@example.net   \n",
            "96        Kevin Cook      (882)594-5701x5621      gregoryroy@example.org   \n",
            "97  Michelle Russell  001-577-829-2855x85006  leonardbrandon@example.com   \n",
            "98    Felicia Mooney           (838)359-2389         cindy79@example.com   \n",
            "99    Daniel Wheeler       321-957-0268x2781         iramsey@example.com   \n",
            "\n",
            "                                              Address  Marks Obtained  \\\n",
            "0   02700 Patricia Curve Apt. 071\\nCollinsberg, SD...              33   \n",
            "1             6095 Rowe Brooks\\nJosephmouth, DE 71660              36   \n",
            "2     834 Harold Vista Apt. 602\\nJustinstad, KY 75098              31   \n",
            "3   3873 Brooks Corners Suite 759\\nWest Kaylaport,...              33   \n",
            "4     5186 Johnson Estate\\nPort Georgehaven, NJ 16419              43   \n",
            "..                                                ...             ...   \n",
            "95       9913 Edwards Tunnel\\nJenniferhaven, MN 30605              49   \n",
            "96  0748 Hartman Haven Apt. 490\\nSouth Joshua, VI ...              11   \n",
            "97              8321 Gray Alley\\nNorth Mark, HI 01618              18   \n",
            "98     9033 Anna Green Apt. 300\\nHowellbury, NC 95555              34   \n",
            "99         8244 Matthew Summit\\nRobertsstad, IN 84761              39   \n",
            "\n",
            "    Total Marks  \n",
            "0            81  \n",
            "1            71  \n",
            "2            80  \n",
            "3            61  \n",
            "4            92  \n",
            "..          ...  \n",
            "95           81  \n",
            "96           91  \n",
            "97           52  \n",
            "98           92  \n",
            "99           78  \n",
            "\n",
            "[100 rows x 6 columns]\n"
          ]
        }
      ],
      "source": [
        "import pandas as pd\n",
        "from faker import Faker\n",
        "import random\n",
        "\n",
        "# Initialize the Faker object\n",
        "fake = Faker()\n",
        "\n",
        "# Define the number of rows\n",
        "num_rows = 100\n",
        "\n",
        "# Lists to store the data\n",
        "names = []\n",
        "contact_nos = []\n",
        "email_ids = []\n",
        "addresses = []\n",
        "marks_obtained = []\n",
        "total_marks = []\n",
        "\n",
        "# Generate the data\n",
        "for _ in range(num_rows):\n",
        "    names.append(fake.name())\n",
        "    contact_nos.append(fake.phone_number())\n",
        "    email_ids.append(fake.email())\n",
        "    addresses.append(fake.address())\n",
        "    total_mark = random.randint(50, 100)\n",
        "    obtained_mark = random.randint(0, total_mark)\n",
        "    total_marks.append(total_mark)\n",
        "    marks_obtained.append(obtained_mark)\n",
        "\n",
        "# Create a DataFrame\n",
        "data = {\n",
        "    'Name': names,\n",
        "    'Contact No': contact_nos,\n",
        "    'Email-id': email_ids,\n",
        "    'Address': addresses,\n",
        "    'Marks Obtained': marks_obtained,\n",
        "    'Total Marks': total_marks\n",
        "}\n",
        "\n",
        "df = pd.DataFrame(data)\n",
        "\n",
        "# Save the DataFrame to a CSV file\n",
        "df.to_csv('generated_dataset.csv', index=False)\n",
        "\n",
        "# Display the DataFrame\n",
        "print(df)"
      ]
    },
    {
      "cell_type": "code",
      "source": [
        "pip install faker"
      ],
      "metadata": {
        "colab": {
          "base_uri": "https://localhost:8080/"
        },
        "id": "lgB4xHJTu3dR",
        "outputId": "2a605927-1c09-45a6-86ca-395e8ddb4f2b"
      },
      "execution_count": null,
      "outputs": [
        {
          "output_type": "stream",
          "name": "stdout",
          "text": [
            "Collecting faker\n",
            "  Downloading Faker-25.2.0-py3-none-any.whl (1.8 MB)\n",
            "\u001b[2K     \u001b[90m━━━━━━━━━━━━━━━━━━━━━━━━━━━━━━━━━━━━━━━━\u001b[0m \u001b[32m1.8/1.8 MB\u001b[0m \u001b[31m10.9 MB/s\u001b[0m eta \u001b[36m0:00:00\u001b[0m\n",
            "\u001b[?25hRequirement already satisfied: python-dateutil>=2.4 in /usr/local/lib/python3.10/dist-packages (from faker) (2.8.2)\n",
            "Requirement already satisfied: six>=1.5 in /usr/local/lib/python3.10/dist-packages (from python-dateutil>=2.4->faker) (1.16.0)\n",
            "Installing collected packages: faker\n",
            "Successfully installed faker-25.2.0\n"
          ]
        }
      ]
    }
  ]
}